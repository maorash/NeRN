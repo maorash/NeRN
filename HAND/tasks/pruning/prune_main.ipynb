{
 "cells": [
  {
   "cell_type": "code",
   "execution_count": 16,
   "metadata": {
    "pycharm": {
     "name": "#%%\n"
    }
   },
   "outputs": [],
   "source": [
    "import copy\n",
    "\n",
    "import numpy as np\n",
    "import pyrallis\n",
    "import torch\n",
    "import matplotlib.pyplot as plt\n",
    "\n",
    "\n",
    "from HAND.HAND_train import load_original_model\n",
    "from HAND.eval_func import EvalFunction\n",
    "from HAND.predictors.factory import HANDPredictorFactory, PredictorDataParallel\n",
    "from HAND.predictors.predictor import HANDPredictorBase\n",
    "from HAND.tasks.dataloader_factory import DataloaderFactory\n",
    "from HAND.tasks.model_factory import ModelFactory\n",
    "from HAND.tasks.pruning.prune_options import PruneConfig\n",
    "from HAND.tasks.pruning.pruner import Pruner, get_filter_reconstruction_errors\n",
    "from HAND.permutations import utils as permutations_utils\n",
    "from HAND.options import TrainConfig"
   ]
  },
  {
   "cell_type": "code",
   "execution_count": 17,
   "metadata": {
    "pycharm": {
     "name": "#%%\n"
    }
   },
   "outputs": [],
   "source": [
    "def get_num_zero_weights(weight_list):\n",
    "    num_zeros = 0\n",
    "    for layer in weight_list:\n",
    "        num_zeros += torch.sum(layer == 0)\n",
    "    return num_zeros\n",
    "\n",
    "\n",
    "def get_num_weights(weight_list):\n",
    "    num_weights = 0\n",
    "    for layer in weight_list:\n",
    "        num_weights += torch.numel(layer)\n",
    "    return num_weights"
   ]
  },
  {
   "cell_type": "code",
   "execution_count": 25,
   "metadata": {
    "pycharm": {
     "name": "#%%\n"
    }
   },
   "outputs": [],
   "source": [
    "cfg = pyrallis.load(PruneConfig, open(\"./resnet56_0_B_cifar100_big_permute_l2withreg.yaml\", \"r\"))"
   ]
  },
  {
   "cell_type": "code",
   "execution_count": 26,
   "metadata": {
    "pycharm": {
     "name": "#%%\n"
    }
   },
   "outputs": [],
   "source": [
    "use_cuda = not cfg.train_cfg.no_cuda and torch.cuda.is_available()\n",
    "device = torch.device(\"cuda\" if use_cuda else \"cpu\")\n"
   ]
  },
  {
   "cell_type": "code",
   "execution_count": 27,
   "metadata": {
    "pycharm": {
     "name": "#%%\n"
    }
   },
   "outputs": [
    {
     "name": "stdout",
     "output_type": "stream",
     "text": [
      "Files already downloaded and verified\n"
     ]
    }
   ],
   "source": [
    "_, test_dataloader = DataloaderFactory.get(cfg.train_cfg.task,\n",
    "                                           **{'batch_size': cfg.train_cfg.batch_size,\n",
    "                                              'num_workers': cfg.train_cfg.num_workers})"
   ]
  },
  {
   "cell_type": "code",
   "execution_count": 28,
   "metadata": {
    "scrolled": false,
    "pycharm": {
     "name": "#%%\n"
    }
   },
   "outputs": [
    {
     "name": "stdout",
     "output_type": "stream",
     "text": [
      "Trying to load precomputed embeddings\n",
      "Loaded positional embeddings for layer 1/57\n",
      "Loaded positional embeddings for layer 2/57\n",
      "Loaded positional embeddings for layer 3/57\n",
      "Loaded positional embeddings for layer 4/57\n",
      "Loaded positional embeddings for layer 5/57\n",
      "Loaded positional embeddings for layer 6/57\n",
      "Loaded positional embeddings for layer 7/57\n",
      "Loaded positional embeddings for layer 8/57\n",
      "Loaded positional embeddings for layer 9/57\n",
      "Loaded positional embeddings for layer 10/57\n",
      "Loaded positional embeddings for layer 11/57\n",
      "Loaded positional embeddings for layer 12/57\n",
      "Loaded positional embeddings for layer 13/57\n",
      "Loaded positional embeddings for layer 14/57\n",
      "Loaded positional embeddings for layer 15/57\n",
      "Loaded positional embeddings for layer 16/57\n",
      "Loaded positional embeddings for layer 17/57\n",
      "Loaded positional embeddings for layer 18/57\n",
      "Loaded positional embeddings for layer 19/57\n",
      "Loaded positional embeddings for layer 20/57\n",
      "Loaded positional embeddings for layer 21/57\n",
      "Loaded positional embeddings for layer 22/57\n",
      "Loaded positional embeddings for layer 23/57\n",
      "Loaded positional embeddings for layer 24/57\n",
      "Loaded positional embeddings for layer 25/57\n",
      "Loaded positional embeddings for layer 26/57\n",
      "Loaded positional embeddings for layer 27/57\n",
      "Loaded positional embeddings for layer 28/57\n",
      "Loaded positional embeddings for layer 29/57\n",
      "Loaded positional embeddings for layer 30/57\n",
      "Loaded positional embeddings for layer 31/57\n",
      "Loaded positional embeddings for layer 32/57\n",
      "Loaded positional embeddings for layer 33/57\n",
      "Loaded positional embeddings for layer 34/57\n",
      "Loaded positional embeddings for layer 35/57\n",
      "Loaded positional embeddings for layer 36/57\n",
      "Loaded positional embeddings for layer 37/57\n",
      "Loaded positional embeddings for layer 38/57\n",
      "Loaded positional embeddings for layer 39/57\n",
      "Loaded positional embeddings for layer 40/57\n",
      "Loaded positional embeddings for layer 41/57\n",
      "Loaded positional embeddings for layer 42/57\n",
      "Loaded positional embeddings for layer 43/57\n",
      "Loaded positional embeddings for layer 44/57\n",
      "Loaded positional embeddings for layer 45/57\n",
      "Loaded positional embeddings for layer 46/57\n",
      "Loaded positional embeddings for layer 47/57\n",
      "Loaded positional embeddings for layer 48/57\n",
      "Loaded positional embeddings for layer 49/57\n",
      "Loaded positional embeddings for layer 50/57\n",
      "Loaded positional embeddings for layer 51/57\n",
      "Loaded positional embeddings for layer 52/57\n",
      "Loaded positional embeddings for layer 53/57\n",
      "Loaded positional embeddings for layer 54/57\n",
      "Loaded positional embeddings for layer 55/57\n",
      "Loaded positional embeddings for layer 56/57\n",
      "Loaded positional embeddings for layer 57/57\n",
      "Finished loading precomputed embeddings\n",
      "Trying to load precomputed permutations\n",
      "Loaded permutations for layer 1/57\n",
      "Loaded permutations for layer 2/57\n",
      "Loaded permutations for layer 3/57\n",
      "Loaded permutations for layer 4/57\n",
      "Loaded permutations for layer 5/57\n",
      "Loaded permutations for layer 6/57\n",
      "Loaded permutations for layer 7/57\n",
      "Loaded permutations for layer 8/57\n",
      "Loaded permutations for layer 9/57\n",
      "Loaded permutations for layer 10/57\n",
      "Loaded permutations for layer 11/57\n",
      "Loaded permutations for layer 12/57\n",
      "Loaded permutations for layer 13/57\n",
      "Loaded permutations for layer 14/57\n",
      "Loaded permutations for layer 15/57\n",
      "Loaded permutations for layer 16/57\n",
      "Loaded permutations for layer 17/57\n",
      "Loaded permutations for layer 18/57\n",
      "Loaded permutations for layer 19/57\n",
      "Loaded permutations for layer 20/57\n",
      "Loaded permutations for layer 21/57\n",
      "Loaded permutations for layer 22/57\n",
      "Loaded permutations for layer 23/57\n",
      "Loaded permutations for layer 24/57\n",
      "Loaded permutations for layer 25/57\n",
      "Loaded permutations for layer 26/57\n",
      "Loaded permutations for layer 27/57\n",
      "Loaded permutations for layer 28/57\n",
      "Loaded permutations for layer 29/57\n",
      "Loaded permutations for layer 30/57\n",
      "Loaded permutations for layer 31/57\n",
      "Loaded permutations for layer 32/57\n",
      "Loaded permutations for layer 33/57\n",
      "Loaded permutations for layer 34/57\n",
      "Loaded permutations for layer 35/57\n",
      "Loaded permutations for layer 36/57\n",
      "Loaded permutations for layer 37/57\n",
      "Loaded permutations for layer 38/57\n",
      "Loaded permutations for layer 39/57\n",
      "Loaded permutations for layer 40/57\n",
      "Loaded permutations for layer 41/57\n",
      "Loaded permutations for layer 42/57\n",
      "Loaded permutations for layer 43/57\n",
      "Loaded permutations for layer 44/57\n",
      "Loaded permutations for layer 45/57\n",
      "Loaded permutations for layer 46/57\n",
      "Loaded permutations for layer 47/57\n",
      "Loaded permutations for layer 48/57\n",
      "Loaded permutations for layer 49/57\n",
      "Loaded permutations for layer 50/57\n",
      "Loaded permutations for layer 51/57\n",
      "Loaded permutations for layer 52/57\n",
      "Loaded permutations for layer 53/57\n",
      "Loaded permutations for layer 54/57\n",
      "Loaded permutations for layer 55/57\n",
      "Loaded permutations for layer 56/57\n",
      "Loaded permutations for layer 57/57\n",
      "Finished loading precomputed permutations\n"
     ]
    }
   ],
   "source": [
    "# import original model\n",
    "original_model, reconstructed_model = load_original_model(cfg.train_cfg, device)\n",
    "\n",
    "\n",
    "eval_fn = EvalFunction(cfg.train_cfg)\n",
    "\n",
    "# import predictor\n",
    "pos_embedding = reconstructed_model.positional_encoder.output_size\n",
    "predictor = HANDPredictorFactory(cfg.train_cfg, input_size=pos_embedding).get_predictor().to(device)"
   ]
  },
  {
   "cell_type": "code",
   "execution_count": 29,
   "metadata": {
    "pycharm": {
     "name": "#%%\n"
    }
   },
   "outputs": [],
   "source": [
    "predictor.load(cfg.predictor_path)"
   ]
  },
  {
   "cell_type": "code",
   "execution_count": 30,
   "metadata": {
    "pycharm": {
     "name": "#%%\n"
    }
   },
   "outputs": [],
   "source": [
    "\n",
    "learnable_weights_shapes = reconstructed_model.get_learnable_weights_shapes()\n",
    "indices, positional_embeddings = reconstructed_model.get_indices_and_positional_embeddings()\n",
    "\n",
    "# get original weights and predict reconstructed weights\n",
    "original_weights = original_model.get_learnable_weights()\n",
    "reconstructed_weights = HANDPredictorBase.predict_all(predictor, positional_embeddings,\n",
    "                                                      original_weights,\n",
    "                                                      learnable_weights_shapes)\n",
    "reconstructed_model.update_weights(reconstructed_weights)\n",
    "\n",
    "pruned_model = copy.deepcopy(reconstructed_model)"
   ]
  },
  {
   "cell_type": "code",
   "execution_count": 31,
   "metadata": {
    "scrolled": false,
    "pycharm": {
     "name": "#%%\n"
    }
   },
   "outputs": [
    {
     "name": "stdout",
     "output_type": "stream",
     "text": [
      "evaluating original model\n",
      "\n",
      " Starting eval on test set.\n",
      "\n",
      "Test set: Average loss: -17.2330, Accuracy: 9352/10000 (94%)\n",
      "\n",
      "evaluating reconstructed model\n",
      "\n",
      " Starting eval on test set.\n",
      "\n",
      "Test set: Average loss: -16.9343, Accuracy: 9350/10000 (94%)\n",
      "\n"
     ]
    },
    {
     "data": {
      "text/plain": [
       "93.5"
      ]
     },
     "execution_count": 31,
     "metadata": {},
     "output_type": "execute_result"
    }
   ],
   "source": [
    "print('evaluating original model')\n",
    "eval_fn.eval(original_model, test_dataloader, 0, None, '')\n",
    "print('evaluating reconstructed model')\n",
    "eval_fn.eval(reconstructed_model, test_dataloader, 0, None, '')\n"
   ]
  },
  {
   "cell_type": "code",
   "execution_count": 32,
   "metadata": {
    "pycharm": {
     "name": "#%%\n"
    }
   },
   "outputs": [
    {
     "name": "stdout",
     "output_type": "stream",
     "text": [
      "\n",
      " Starting eval on test set.\n",
      "\n",
      "Test set: Average loss: -8.9295, Accuracy: 8703/10000 (87%)\n",
      "\n"
     ]
    },
    {
     "data": {
      "text/plain": [
       "87.03"
      ]
     },
     "execution_count": 32,
     "metadata": {},
     "output_type": "execute_result"
    }
   ],
   "source": [
    "pruned_model = copy.deepcopy(reconstructed_model)\n",
    "pruner_flip = Pruner(cfg, predictor, reconstructed_model, original_model, pruned_model, device)\n",
    "pruner_flip.reconstruction_prune(0.5, error_metric='relative')\n",
    "eval_fn.eval(pruned_model, test_dataloader, 0, None, '')"
   ]
  },
  {
   "cell_type": "code",
   "execution_count": 33,
   "metadata": {
    "pycharm": {
     "name": "#%%\n"
    }
   },
   "outputs": [
    {
     "name": "stdout",
     "output_type": "stream",
     "text": [
      "magnitude_prune\n",
      "\n",
      " Starting eval on test set.\n",
      "\n",
      "Test set: Average loss: -17.2418, Accuracy: 9348/10000 (93%)\n",
      "\n",
      "recon_magnitude_prune\n",
      "\n",
      " Starting eval on test set.\n",
      "\n",
      "Test set: Average loss: -17.1991, Accuracy: 9343/10000 (93%)\n",
      "\n"
     ]
    },
    {
     "data": {
      "text/plain": [
       "93.43"
      ]
     },
     "execution_count": 33,
     "metadata": {},
     "output_type": "execute_result"
    }
   ],
   "source": [
    "pruner = Pruner(cfg, predictor, original_model, reconstructed_model, pruned_model, device)\n",
    "\n",
    "# # relative_nern_pruned_model\n",
    "# print('unstructured_reconstruction_prune')\n",
    "# pruner.reconstruction_prune(0.2, error_metric='relative')\n",
    "# eval_fn.eval(pruned_model, test_dataloader, 0, None, '')\n",
    "\n",
    "# magnitude_pruned_model\n",
    "prune_factor=0.1\n",
    "print('magnitude_prune')\n",
    "pruner.magnitude_prune(prune_factor)\n",
    "eval_fn.eval(pruned_model, test_dataloader, 0, None, '')\n",
    "\n",
    "print('recon_magnitude_prune')\n",
    "pruner.reconstruction_magnitude_prune(prune_factor)\n",
    "eval_fn.eval(pruned_model, test_dataloader, 0, None, '')\n",
    "\n",
    "\n"
   ]
  },
  {
   "cell_type": "code",
   "execution_count": null,
   "outputs": [],
   "source": [
    "pruning_factors = np.linspace(0.1, 0.9, 20)\n",
    "magnitude_pruned_accuracies = list()\n",
    "recon_magnitude_orig_pruned_accuracies = list()\n",
    "recon_magnitude_pruned_accuracies = list()\n",
    "recon_error_pruned_accuracies = list()\n",
    "\n",
    "for pruning_factor in pruning_factors:\n",
    "    pruner.magnitude_prune(pruning_factor)\n",
    "    magnitude_accuracy = eval_fn.eval(pruned_model, test_dataloader, 0, None, '')\n",
    "    pruner_flip.magnitude_prune(pruning_factor)\n",
    "    recon_magnitude_pruned_accuracy = eval_fn.eval(pruned_model, test_dataloader, 0, None, '')\n",
    "    pruner.reconstruction_magnitude_prune(pruning_factor)\n",
    "    recon_magnitude_origin_pruned_accuracy = eval_fn.eval(pruned_model, test_dataloader, 0, None, '')\n",
    "    pruner.reconstruction_prune(pruning_factor, error_metric='relative')\n",
    "    recon_error_pruned_accuracy = eval_fn.eval(pruned_model, test_dataloader, 0, None, '')\n",
    "    \n",
    "    recon_magnitude_orig_pruned_accuracies.append(recon_magnitude_pruned_accuracy)\n",
    "    magnitude_pruned_accuracies.append(magnitude_accuracy)\n",
    "    recon_magnitude_pruned_accuracies.append(recon_magnitude_origin_pruned_accuracy)\n",
    "    recon_error_pruned_accuracies.append(recon_error_pruned_accuracy)"
   ],
   "metadata": {
    "collapsed": false,
    "pycharm": {
     "name": "#%%\n"
    }
   }
  },
  {
   "cell_type": "code",
   "execution_count": null,
   "outputs": [],
   "source": [
    "pruning_factors = np.linspace(0.1, 0.9, 20)\n",
    "recon_error_recon_pruned_accuracies = list()\n",
    "for pruning_factor in pruning_factors:\n",
    "    pruner_flip.reconstruction_prune(pruning_factor, error_metric='relative')\n",
    "    recon_error_recon_pruned_accuracy = eval_fn.eval(pruned_model, test_dataloader, 0, None, '')\n",
    "    \n",
    "    recon_error_recon_pruned_accuracies.append(recon_error_recon_pruned_accuracy)\n"
   ],
   "metadata": {
    "collapsed": false,
    "pycharm": {
     "name": "#%%\n"
    }
   }
  },
  {
   "cell_type": "code",
   "execution_count": null,
   "outputs": [],
   "source": [
    "pruning_factors"
   ],
   "metadata": {
    "collapsed": false,
    "pycharm": {
     "name": "#%%\n"
    }
   }
  },
  {
   "cell_type": "code",
   "execution_count": null,
   "outputs": [],
   "source": [
    "\n",
    "plt.plot(pruning_factors, recon_magnitude_orig_pruned_accuracies, label='recon_magnitude_orig')\n",
    "plt.plot(pruning_factors, magnitude_pruned_accuracies, label='magnitude')\n",
    "plt.plot(pruning_factors, recon_magnitude_pruned_accuracies, label='recon_magnitude')\n",
    "# plt.plot(pruning_factors, recon_error_pruned_accuracies, label='recon_error')\n",
    "# plt.plot(pruning_factors, recon_error_recon_pruned_accuracies, label='recon_error_recon')\n",
    "\n",
    "plt.legend()\n",
    "plt.xlabel('Pruning Factors')\n",
    "plt.ylabel('Pruned Models Accuracies')\n",
    "plt.title('93% Reconstruction')\n",
    "plt.xlim(0.5,0.9)\n",
    "# plt.ylim(60,100)\n",
    "# plt.xlim(0.2,0.7)\n",
    "plt.show()"
   ],
   "metadata": {
    "collapsed": false,
    "pycharm": {
     "name": "#%%\n"
    }
   }
  },
  {
   "cell_type": "code",
   "execution_count": null,
   "outputs": [],
   "source": [
    "\n",
    "# plt.plot(pruning_factors, np.array(recon_magnitude_orig_pruned_accuracies)/100, label='recon_magnitude_orig')\n",
    "# plt.plot(pruning_factors, np.array(magnitude_pruned_accuracies)/100, label='magnitude')\n",
    "plt.plot(pruning_factors, (np.array(magnitude_pruned_accuracies)-np.array(recon_magnitude_orig_pruned_accuracies)), label='diff')\n",
    "# plt.plot(pruning_factors, np.array(recon_magnitude_pruned_accuracies)/100, label='recon_magnitude')\n",
    "\n",
    "\n",
    "plt.legend()\n",
    "plt.xlabel('Pruning Factors')\n",
    "plt.ylabel('Pruned Models Accuracies')\n",
    "plt.title('93% Reconstruction')\n",
    "plt.xlim(0,1)\n",
    "plt.yscale(\"linear\")\n",
    "# plt.ylim(60,100)\n",
    "plt.xlim(0.4,1)\n",
    "plt.show()"
   ],
   "metadata": {
    "collapsed": false,
    "pycharm": {
     "name": "#%%\n"
    }
   }
  },
  {
   "cell_type": "code",
   "execution_count": 58,
   "metadata": {
    "pycharm": {
     "name": "#%%\n"
    }
   },
   "outputs": [
    {
     "data": {
      "image/png": "[encoded data removed]",
      "text/plain": [
       "<Figure size 640x480 with 1 Axes>"
      ]
     },
     "metadata": {},
     "output_type": "display_data"
    }
   ],
   "source": [
    "\n",
    "# plt.plot(pruning_factors, np.array(recon_magnitude_orig_pruned_accuracies)/100, label='recon_magnitude_orig')\n",
    "# plt.plot(pruning_factors, np.array(magnitude_pruned_accuracies)/100, label='magnitude')\n",
    "plt.plot(pruning_factors, (np.array(magnitude_pruned_accuracies)-np.array(recon_magnitude_orig_pruned_accuracies)), label='diff')\n",
    "# plt.plot(pruning_factors, np.array(recon_magnitude_pruned_accuracies)/100, label='recon_magnitude')\n",
    "\n",
    "\n",
    "plt.legend()\n",
    "plt.xlabel('Pruning Factors')\n",
    "plt.ylabel('Pruned Models Accuracies')\n",
    "plt.title('93% Reconstruction')\n",
    "plt.xlim(0,1)\n",
    "plt.yscale(\"linear\")\n",
    "# plt.ylim(60,100)\n",
    "plt.xlim(0.4,1)\n",
    "plt.show()"
   ]
  },
  {
   "cell_type": "code",
   "execution_count": 38,
   "metadata": {
    "scrolled": false,
    "pycharm": {
     "name": "#%%\n"
    }
   },
   "outputs": [
    {
     "data": {
      "image/png": "[encoded data removed]",
      "text/plain": [
       "<Figure size 640x480 with 1 Axes>"
      ]
     },
     "metadata": {},
     "output_type": "display_data"
    }
   ],
   "source": [
    "\n",
    "plt.plot(pruning_factors, np.array(recon_magnitude_orig_pruned_accuracies) / recon_magnitude_orig_pruned_accuracies[0], label='recon_magnitude_orig')\n",
    "plt.plot(pruning_factors, np.array(magnitude_pruned_accuracies) / magnitude_pruned_accuracies[0], label='magnitude')\n",
    "plt.plot(pruning_factors, np.array(recon_magnitude_pruned_accuracies) / recon_magnitude_pruned_accuracies[0], label='recon_magnitude')\n",
    "plt.plot(pruning_factors, np.array(recon_error_pruned_accuracies) / recon_error_pruned_accuracies[0], label='recon_error')\n",
    "plt.plot(pruning_factors, np.array(recon_error_recon_pruned_accuracies) / recon_error_recon_pruned_accuracies[0], label='recon_error_recon')\n",
    "\n",
    "plt.legend()\n",
    "plt.xlabel('Pruning Factors')\n",
    "plt.ylabel('Pruned Models Accuracies')\n",
    "plt.title('93% Reconstruction')\n",
    "# plt.xlim(0.2,0.7)\n",
    "# plt.ylim(60,100)\n",
    "# plt.xlim(0.2,0.7)\n",
    "plt.show()"
   ]
  },
  {
   "cell_type": "code",
   "execution_count": null,
   "metadata": {
    "pycharm": {
     "name": "#%%\n"
    }
   },
   "outputs": [],
   "source": [
    "def prune_predictor(factor):\n",
    "    pruned_predictor = copy.deepcopy(predictor)\n",
    "    with torch.no_grad():\n",
    "        parameters=list(predictor.parameters())\n",
    "        pruned_weights = copy.deepcopy(parameters)\n",
    "        all_sorted, all_sorted_idx = torch.sort(torch.cat([torch.abs(t.view(-1)) for t in pruned_weights]))\n",
    "        cum_num_elements = torch.cumsum(torch.tensor([t.numel() for t in pruned_weights]), dim=0)\n",
    "        cum_num_elements = torch.cat([torch.tensor([0]), cum_num_elements])\n",
    "\n",
    "        n = int(cum_num_elements[-1].item() * pruning_factor)\n",
    "\n",
    "        split_indices_lt = [all_sorted_idx[:n] < cum_num_elements[i + 1] for i, _ in enumerate(cum_num_elements[1:])]\n",
    "        split_indices_ge = [all_sorted_idx[:n] >= cum_num_elements[i] for i, _ in enumerate(cum_num_elements[:-1])]\n",
    "        prune_indices = [all_sorted_idx[:n][torch.logical_and(lt, ge)] - c for lt, ge, c in\n",
    "                         zip(split_indices_lt, split_indices_ge, cum_num_elements[:-1])]\n",
    "        for p, i in zip(pruned_predictor.parameters(), prune_indices):\n",
    "            if len(p.shape)==2:\n",
    "                p.view(-1)[i] = 0\n",
    "    return pruned_predictor"
   ]
  },
  {
   "cell_type": "code",
   "execution_count": 290,
   "metadata": {
    "scrolled": true,
    "pycharm": {
     "name": "#%%\n"
    }
   },
   "outputs": [],
   "source": [
    "pruned_predictor = prune_predictor(0.1)\n",
    "reconstructed_model_1 = copy.deepcopy(reconstructed_model)\n",
    "reconstructed_weights = HANDPredictorBase.predict_all(pruned_predictor, positional_embeddings,\n",
    "                                                      original_weights,\n",
    "                                                      learnable_weights_shapes)\n",
    "reconstructed_model_1.update_weights(reconstructed_weights)\n",
    "\n",
    "pruned_predictor_2 = prune_predictor(0.02)\n",
    "reconstructed_model_2 = copy.deepcopy(reconstructed_model)\n",
    "reconstructed_weights = HANDPredictorBase.predict_all(pruned_predictor, positional_embeddings,\n",
    "                                                      original_weights,\n",
    "                                                      learnable_weights_shapes)\n",
    "reconstructed_model_2.update_weights(reconstructed_weights)"
   ]
  },
  {
   "cell_type": "code",
   "execution_count": 292,
   "metadata": {
    "pycharm": {
     "name": "#%%\n"
    }
   },
   "outputs": [
    {
     "name": "stdout",
     "output_type": "stream",
     "text": [
      "\n",
      " Starting eval on test set.\n",
      "\n",
      "Test set: Average loss: -0.4876, Accuracy: 1406/10000 (14%)\n",
      "\n"
     ]
    },
    {
     "data": {
      "text/plain": [
       "14.06"
      ]
     },
     "execution_count": 292,
     "metadata": {},
     "output_type": "execute_result"
    }
   ],
   "source": [
    "pruned_model = copy.deepcopy(reconstructed_model)\n",
    "pruner_1 = Pruner(cfg, predictor, reconstructed_model, reconstructed_model_1, pruned_model, device)\n",
    "pruner_1.reconstruction_prune(0.7, error_metric='relative')\n",
    "eval_fn.eval(pruned_model, test_dataloader, 0, None, '')"
   ]
  },
  {
   "cell_type": "code",
   "execution_count": 289,
   "metadata": {
    "pycharm": {
     "name": "#%%\n"
    }
   },
   "outputs": [
    {
     "name": "stdout",
     "output_type": "stream",
     "text": [
      "\n",
      " Starting eval on test set.\n",
      "\n",
      "Test set: Average loss: -16.8127, Accuracy: 9287/10000 (93%)\n",
      "\n"
     ]
    },
    {
     "data": {
      "text/plain": [
       "92.87"
      ]
     },
     "execution_count": 289,
     "metadata": {},
     "output_type": "execute_result"
    }
   ],
   "source": [
    "pruner_2 = Pruner(cfg, predictor, reconstructed_model, reconstructed_model_2, pruned_model, device)\n",
    "pruner_2.reconstruction_prune(0.2, error_metric='relative')\n",
    "eval_fn.eval(pruned_model, test_dataloader, 0, None, '')"
   ]
  },
  {
   "cell_type": "code",
   "execution_count": null,
   "metadata": {
    "pycharm": {
     "name": "#%%\n"
    }
   },
   "outputs": [],
   "source": []
  }
 ],
 "metadata": {
  "kernelspec": {
   "display_name": "Python 3 (ipykernel)",
   "language": "python",
   "name": "python3"
  },
  "language_info": {
   "codemirror_mode": {
    "name": "ipython",
    "version": 3
   },
   "file_extension": ".py",
   "mimetype": "text/x-python",
   "name": "python",
   "nbconvert_exporter": "python",
   "pygments_lexer": "ipython3",
   "version": "3.7.13"
  }
 },
 "nbformat": 4,
 "nbformat_minor": 1
}