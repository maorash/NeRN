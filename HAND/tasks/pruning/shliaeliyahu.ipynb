{
 "cells": [
  {
   "cell_type": "code",
   "execution_count": null,
   "metadata": {
    "collapsed": true,
    "pycharm": {
     "name": "#%%\n"
    }
   },
   "outputs": [],
   "source": [
    "import numpy as np\n",
    "import pandas as pd\n",
    "import plotly.express as px\n",
    "\n",
    "import torch\n",
    "\n",
    "n = 5\n",
    "\n",
    "tensor_list = [torch.randn(5,5), torch.zeros(3,3), torch.randn(4,4)]\n",
    "all_sorted, all_sorted_idx = torch.sort(torch.cat([t.view(-1) for t in tensor_list]))\n",
    "\n",
    "cum_num_elements = torch.cumsum(torch.tensor([t.numel() for t in tensor_list]), dim=0)\n",
    "cum_num_elements = torch.cat([torch.tensor([0]), cum_num_elements])\n",
    "\n",
    "split_indeces_lt = [all_sorted_idx[:n] < cum_num_elements[i + 1] for i, _ in enumerate(cum_num_elements[1:])]\n",
    "split_indeces_ge = [all_sorted_idx[:n] >= cum_num_elements[i] for i, _ in enumerate(cum_num_elements[:-1])]\n",
    "split_indeces = [all_sorted_idx[:n][torch.logical_and(lt, ge)] - c for lt, ge, c in zip(split_indeces_lt, split_indeces_ge, cum_num_elements[:-1])]\n",
    "\n",
    "n_smallest = [t.view(-1)[idx] for t, idx in zip(tensor_list, split_indeces)]\n",
    "\n",
    "x = np.linspace(0, 10, 10)\n",
    "df = pd.DataFrame({'x_data': x, 'y_data': x})\n",
    "print(df)\n",
    "fig = px.line(df, x='x_data', y='y_data', title=\"Testing\")\n",
    "fig.show()"
   ]
  }
 ],
 "metadata": {
  "kernelspec": {
   "display_name": "Python 3",
   "language": "python",
   "name": "python3"
  },
  "language_info": {
   "codemirror_mode": {
    "name": "ipython",
    "version": 2
   },
   "file_extension": ".py",
   "mimetype": "text/x-python",
   "name": "python",
   "nbconvert_exporter": "python",
   "pygments_lexer": "ipython2",
   "version": "2.7.6"
  }
 },
 "nbformat": 4,
 "nbformat_minor": 0
}