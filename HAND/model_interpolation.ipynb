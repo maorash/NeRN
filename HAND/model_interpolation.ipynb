{
 "cells": [
  {
   "cell_type": "code",
   "execution_count": null,
   "metadata": {
    "collapsed": true,
    "pycharm": {
     "name": "#%%\n"
    }
   },
   "outputs": [],
   "source": [
    "import json\n",
    "import os\n",
    "\n",
    "import pyrallis\n",
    "import torch\n",
    "from torch.utils.tensorboard import SummaryWriter\n",
    "from clearml import Task\n",
    "\n",
    "from HAND.HAND_train import load_original_model\n",
    "from HAND.loss.attention_loss import AttentionLossFactory\n",
    "from HAND.loss.distillation_loss import DistillationLossFactory\n",
    "from HAND.loss.reconstruction_loss import ReconstructionLossFactory\n",
    "from HAND.loss.task_loss import TaskLossFactory\n",
    "from HAND.options import TrainConfig\n",
    "from HAND.predictors.factory import HANDPredictorFactory\n",
    "from HAND.tasks.model_factory import ModelFactory\n",
    "import HAND.log_utils as log_utils\n",
    "from HAND.trainer import Trainer\n",
    "from HAND.eval_func import EvalFunction\n",
    "from HAND.tasks.dataloader_factory import DataloaderFactory                                         'num_workers': cfg.num_workers})\n",
    "from HAND.tasks.model_factory import ModelFactory"
   ]
  },
  {
   "cell_type": "code",
   "execution_count": null,
   "outputs": [],
   "source": [
    "def init_predictor(cfg, predictor):\n",
    "    if cfg.hand.init == \"fmod\":\n",
    "        print(\"Initializing using fmod\")\n",
    "        for p in predictor.parameters():\n",
    "            if len(p.shape) >= 2:\n",
    "                p.data = torch.fmod(p.data, 2)\n",
    "    elif cfg.hand.init == \"checkpoint\":\n",
    "        print(f\"Loading pretrained weights from: {cfg.hand.checkpoint_path}\")\n",
    "        predictor.load(cfg.hand.checkpoint_path)\n",
    "    elif cfg.hand.init == \"default\":\n",
    "        print(\"Using default torch initialization\")\n",
    "    else:\n",
    "        raise ValueError(f\"Unsupported initialization method: {cfg.hand.init}\")\n",
    "\n",
    "cfg = pyrallis.parse(config_class=TrainConfig,\n",
    "                              config_path='experiments/resnet56/cifar10/resnet56_0_B_cifar10_ranger_nogc_350_epochs_1.5MB_base0.76.yaml')\n",
    "use_cuda = not cfg.no_cuda and torch.cuda.is_available()\n",
    "device = torch.device(\"cuda\" if use_cuda else \"cpu\")\n",
    "\n",
    "original_model, reconstructed_model = load_original_model(cfg, device)\n",
    "\n",
    "pos_embedding = reconstructed_model.output_size\n",
    "predictor = HANDPredictorFactory(cfg, input_size=pos_embedding).get_predictor().to(device)\n",
    "\n",
    "init_predictor(cfg, predictor)\n",
    "\n",
    "if not cfg.logging.disable_logging:\n",
    "    if cfg.logging.use_tensorboard:\n",
    "        logger = SummaryWriter(log_dir=os.path.join(cfg.logging.log_dir, \"tb_logs\", cfg.logging.exp_name))\n",
    "        logger.add_text(\"TrainConfig\", json.dumps(pyrallis.encode(cfg), indent=4))\n",
    "    else:\n",
    "        clearml_task = Task.init(project_name='HAND_compression', task_name=cfg.logging.exp_name, deferred_init=True)\n",
    "        clearml_task.connect(log_utils.flatten(pyrallis.encode(cfg)))  # Flatten because of clearml bug\n",
    "        logger = clearml_task.get_logger()\n",
    "else:\n",
    "    logger = None\n",
    "\n",
    "num_predictor_params = sum([p.numel() for p in predictor.parameters()])\n",
    "print(f\"Predictor:\"\n",
    "      f\"\\t-> Number of parameters: {num_predictor_params / 1000}K\"\n",
    "      f\"\\t-> Size: {num_predictor_params * 4 / 1024 / 1024:.2f}Mb\")\n",
    "\n",
    "num_predicted_params = sum([p.numel() for p in original_model.get_learnable_weights()])\n",
    "num_total_params = sum([p.numel() for p in original_model.parameters()])\n",
    "print(f\"\\nOriginal Model:\"\n",
    "      f\"\\t-> Number of learnable parameters: {num_predicted_params / 1000}K\"\n",
    "      f\"\\t-> Size of learnable parameters: {num_predicted_params * 4 / 1024 / 1024:.2f}Mb\",\n",
    "      f\"\\n\\t-> Total model size: {num_total_params * 4 / 1024 / 1024:.2f}Mb\")\n",
    "\n",
    "dataloaders = DataloaderFactory.get(cfg.task, **{'batch_size': cfg.batch_size,\n",
    "                                                 'num_workers': cfg.num_workers})\n"
   ],
   "metadata": {
    "collapsed": false,
    "pycharm": {
     "name": "#%%\n"
    }
   }
  }
 ],
 "metadata": {
  "kernelspec": {
   "display_name": "Python 3",
   "language": "python",
   "name": "python3"
  },
  "language_info": {
   "codemirror_mode": {
    "name": "ipython",
    "version": 2
   },
   "file_extension": ".py",
   "mimetype": "text/x-python",
   "name": "python",
   "nbconvert_exporter": "python",
   "pygments_lexer": "ipython2",
   "version": "2.7.6"
  }
 },
 "nbformat": 4,
 "nbformat_minor": 0
}